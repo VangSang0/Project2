{
 "cells": [
  {
   "cell_type": "markdown",
   "id": "4d18109b",
   "metadata": {},
   "source": [
    "## Handling Imports"
   ]
  },
  {
   "cell_type": "code",
   "execution_count": 1,
   "id": "273aadfe",
   "metadata": {},
   "outputs": [
    {
     "name": "stdout",
     "output_type": "stream",
     "text": [
      "Requirement already satisfied: numpy in c:\\users\\vangs\\anaconda3\\lib\\site-packages (1.24.3)\n",
      "Requirement already satisfied: pandas in c:\\users\\vangs\\anaconda3\\lib\\site-packages (2.0.3)\n",
      "Requirement already satisfied: matplotlib in c:\\users\\vangs\\anaconda3\\lib\\site-packages (3.7.2)\n",
      "Requirement already satisfied: seaborn in c:\\users\\vangs\\anaconda3\\lib\\site-packages (0.12.2)\n",
      "Requirement already satisfied: scikit-learn in c:\\users\\vangs\\anaconda3\\lib\\site-packages (1.3.0)\n",
      "Requirement already satisfied: python-dateutil>=2.8.2 in c:\\users\\vangs\\anaconda3\\lib\\site-packages (from pandas) (2.8.2)\n",
      "Requirement already satisfied: pytz>=2020.1 in c:\\users\\vangs\\anaconda3\\lib\\site-packages (from pandas) (2023.3.post1)\n",
      "Requirement already satisfied: tzdata>=2022.1 in c:\\users\\vangs\\anaconda3\\lib\\site-packages (from pandas) (2023.3)\n",
      "Requirement already satisfied: contourpy>=1.0.1 in c:\\users\\vangs\\anaconda3\\lib\\site-packages (from matplotlib) (1.0.5)\n",
      "Requirement already satisfied: cycler>=0.10 in c:\\users\\vangs\\anaconda3\\lib\\site-packages (from matplotlib) (0.11.0)\n",
      "Requirement already satisfied: fonttools>=4.22.0 in c:\\users\\vangs\\anaconda3\\lib\\site-packages (from matplotlib) (4.25.0)\n",
      "Requirement already satisfied: kiwisolver>=1.0.1 in c:\\users\\vangs\\anaconda3\\lib\\site-packages (from matplotlib) (1.4.4)\n",
      "Requirement already satisfied: packaging>=20.0 in c:\\users\\vangs\\anaconda3\\lib\\site-packages (from matplotlib) (23.1)\n",
      "Requirement already satisfied: pillow>=6.2.0 in c:\\users\\vangs\\anaconda3\\lib\\site-packages (from matplotlib) (10.0.1)\n",
      "Requirement already satisfied: pyparsing<3.1,>=2.3.1 in c:\\users\\vangs\\anaconda3\\lib\\site-packages (from matplotlib) (3.0.9)\n",
      "Requirement already satisfied: scipy>=1.5.0 in c:\\users\\vangs\\anaconda3\\lib\\site-packages (from scikit-learn) (1.11.1)\n",
      "Requirement already satisfied: joblib>=1.1.1 in c:\\users\\vangs\\anaconda3\\lib\\site-packages (from scikit-learn) (1.2.0)\n",
      "Requirement already satisfied: threadpoolctl>=2.0.0 in c:\\users\\vangs\\anaconda3\\lib\\site-packages (from scikit-learn) (2.2.0)\n",
      "Requirement already satisfied: six>=1.5 in c:\\users\\vangs\\anaconda3\\lib\\site-packages (from python-dateutil>=2.8.2->pandas) (1.16.0)\n"
     ]
    }
   ],
   "source": [
    "!pip install numpy pandas matplotlib seaborn scikit-learn"
   ]
  },
  {
   "cell_type": "code",
   "execution_count": 2,
   "id": "0a59b137",
   "metadata": {},
   "outputs": [],
   "source": [
    "import numpy as np"
   ]
  },
  {
   "cell_type": "code",
   "execution_count": 3,
   "id": "dc5f56df",
   "metadata": {},
   "outputs": [],
   "source": [
    "import pandas as pd"
   ]
  },
  {
   "cell_type": "code",
   "execution_count": 4,
   "id": "b7f3a161",
   "metadata": {},
   "outputs": [],
   "source": [
    "import seaborn as sns"
   ]
  },
  {
   "cell_type": "code",
   "execution_count": 5,
   "id": "73bb3c98",
   "metadata": {},
   "outputs": [],
   "source": [
    "import matplotlib.pyplot as plt"
   ]
  },
  {
   "cell_type": "code",
   "execution_count": null,
   "id": "2edd6020",
   "metadata": {},
   "outputs": [],
   "source": []
  },
  {
   "cell_type": "markdown",
   "id": "893214f1",
   "metadata": {},
   "source": [
    "## Importing dataset"
   ]
  },
  {
   "cell_type": "code",
   "execution_count": 6,
   "id": "f8bc4cd1",
   "metadata": {},
   "outputs": [],
   "source": [
    "yugioh_df = pd.read_csv(\"card_data.csv\")"
   ]
  },
  {
   "cell_type": "markdown",
   "id": "9db4c2fa",
   "metadata": {},
   "source": [
    "## Cleaning the data\n"
   ]
  },
  {
   "cell_type": "code",
   "execution_count": 7,
   "id": "0df7d9b6",
   "metadata": {},
   "outputs": [
    {
     "data": {
      "text/html": [
       "<div>\n",
       "<style scoped>\n",
       "    .dataframe tbody tr th:only-of-type {\n",
       "        vertical-align: middle;\n",
       "    }\n",
       "\n",
       "    .dataframe tbody tr th {\n",
       "        vertical-align: top;\n",
       "    }\n",
       "\n",
       "    .dataframe thead th {\n",
       "        text-align: right;\n",
       "    }\n",
       "</style>\n",
       "<table border=\"1\" class=\"dataframe\">\n",
       "  <thead>\n",
       "    <tr style=\"text-align: right;\">\n",
       "      <th></th>\n",
       "      <th>Unnamed: 0</th>\n",
       "      <th>id</th>\n",
       "      <th>name</th>\n",
       "      <th>type</th>\n",
       "      <th>frameType</th>\n",
       "      <th>desc</th>\n",
       "      <th>race</th>\n",
       "      <th>archetype</th>\n",
       "      <th>card_sets</th>\n",
       "      <th>card_images</th>\n",
       "      <th>...</th>\n",
       "      <th>atk</th>\n",
       "      <th>def</th>\n",
       "      <th>level</th>\n",
       "      <th>attribute</th>\n",
       "      <th>pend_desc</th>\n",
       "      <th>monster_desc</th>\n",
       "      <th>scale</th>\n",
       "      <th>linkval</th>\n",
       "      <th>linkmarkers</th>\n",
       "      <th>banlist_info</th>\n",
       "    </tr>\n",
       "  </thead>\n",
       "  <tbody>\n",
       "    <tr>\n",
       "      <th>0</th>\n",
       "      <td>0</td>\n",
       "      <td>34541863</td>\n",
       "      <td>\"A\" Cell Breeding Device</td>\n",
       "      <td>Spell Card</td>\n",
       "      <td>spell</td>\n",
       "      <td>During each of your Standby Phases, put 1 A-Co...</td>\n",
       "      <td>Continuous</td>\n",
       "      <td>Alien</td>\n",
       "      <td>[{'set_name': 'Force of the Breaker', 'set_cod...</td>\n",
       "      <td>[{'id': 34541863, 'image_url': 'https://images...</td>\n",
       "      <td>...</td>\n",
       "      <td>NaN</td>\n",
       "      <td>NaN</td>\n",
       "      <td>NaN</td>\n",
       "      <td>NaN</td>\n",
       "      <td>NaN</td>\n",
       "      <td>NaN</td>\n",
       "      <td>NaN</td>\n",
       "      <td>NaN</td>\n",
       "      <td>NaN</td>\n",
       "      <td>NaN</td>\n",
       "    </tr>\n",
       "    <tr>\n",
       "      <th>1</th>\n",
       "      <td>1</td>\n",
       "      <td>64163367</td>\n",
       "      <td>\"A\" Cell Incubator</td>\n",
       "      <td>Spell Card</td>\n",
       "      <td>spell</td>\n",
       "      <td>Each time an A-Counter(s) is removed from play...</td>\n",
       "      <td>Continuous</td>\n",
       "      <td>Alien</td>\n",
       "      <td>[{'set_name': \"Gladiator's Assault\", 'set_code...</td>\n",
       "      <td>[{'id': 64163367, 'image_url': 'https://images...</td>\n",
       "      <td>...</td>\n",
       "      <td>NaN</td>\n",
       "      <td>NaN</td>\n",
       "      <td>NaN</td>\n",
       "      <td>NaN</td>\n",
       "      <td>NaN</td>\n",
       "      <td>NaN</td>\n",
       "      <td>NaN</td>\n",
       "      <td>NaN</td>\n",
       "      <td>NaN</td>\n",
       "      <td>NaN</td>\n",
       "    </tr>\n",
       "    <tr>\n",
       "      <th>2</th>\n",
       "      <td>2</td>\n",
       "      <td>91231901</td>\n",
       "      <td>\"A\" Cell Recombination Device</td>\n",
       "      <td>Spell Card</td>\n",
       "      <td>spell</td>\n",
       "      <td>Target 1 face-up monster on the field; send 1 ...</td>\n",
       "      <td>Quick-Play</td>\n",
       "      <td>Alien</td>\n",
       "      <td>[{'set_name': 'Invasion: Vengeance', 'set_code...</td>\n",
       "      <td>[{'id': 91231901, 'image_url': 'https://images...</td>\n",
       "      <td>...</td>\n",
       "      <td>NaN</td>\n",
       "      <td>NaN</td>\n",
       "      <td>NaN</td>\n",
       "      <td>NaN</td>\n",
       "      <td>NaN</td>\n",
       "      <td>NaN</td>\n",
       "      <td>NaN</td>\n",
       "      <td>NaN</td>\n",
       "      <td>NaN</td>\n",
       "      <td>NaN</td>\n",
       "    </tr>\n",
       "    <tr>\n",
       "      <th>3</th>\n",
       "      <td>3</td>\n",
       "      <td>73262676</td>\n",
       "      <td>\"A\" Cell Scatter Burst</td>\n",
       "      <td>Spell Card</td>\n",
       "      <td>spell</td>\n",
       "      <td>Select 1 face-up \"Alien\" monster you control. ...</td>\n",
       "      <td>Quick-Play</td>\n",
       "      <td>Alien</td>\n",
       "      <td>[{'set_name': 'Strike of Neos', 'set_code': 'S...</td>\n",
       "      <td>[{'id': 73262676, 'image_url': 'https://images...</td>\n",
       "      <td>...</td>\n",
       "      <td>NaN</td>\n",
       "      <td>NaN</td>\n",
       "      <td>NaN</td>\n",
       "      <td>NaN</td>\n",
       "      <td>NaN</td>\n",
       "      <td>NaN</td>\n",
       "      <td>NaN</td>\n",
       "      <td>NaN</td>\n",
       "      <td>NaN</td>\n",
       "      <td>NaN</td>\n",
       "    </tr>\n",
       "    <tr>\n",
       "      <th>4</th>\n",
       "      <td>4</td>\n",
       "      <td>98319530</td>\n",
       "      <td>\"Infernoble Arms - Almace\"</td>\n",
       "      <td>Spell Card</td>\n",
       "      <td>spell</td>\n",
       "      <td>While this card is equipped to a monster: You ...</td>\n",
       "      <td>Equip</td>\n",
       "      <td>Noble Knight</td>\n",
       "      <td>[{'set_name': 'Duelist Nexus', 'set_code': 'DU...</td>\n",
       "      <td>[{'id': 98319530, 'image_url': 'https://images...</td>\n",
       "      <td>...</td>\n",
       "      <td>NaN</td>\n",
       "      <td>NaN</td>\n",
       "      <td>NaN</td>\n",
       "      <td>NaN</td>\n",
       "      <td>NaN</td>\n",
       "      <td>NaN</td>\n",
       "      <td>NaN</td>\n",
       "      <td>NaN</td>\n",
       "      <td>NaN</td>\n",
       "      <td>NaN</td>\n",
       "    </tr>\n",
       "  </tbody>\n",
       "</table>\n",
       "<p>5 rows × 21 columns</p>\n",
       "</div>"
      ],
      "text/plain": [
       "   Unnamed: 0        id                           name        type frameType  \\\n",
       "0           0  34541863       \"A\" Cell Breeding Device  Spell Card     spell   \n",
       "1           1  64163367             \"A\" Cell Incubator  Spell Card     spell   \n",
       "2           2  91231901  \"A\" Cell Recombination Device  Spell Card     spell   \n",
       "3           3  73262676         \"A\" Cell Scatter Burst  Spell Card     spell   \n",
       "4           4  98319530     \"Infernoble Arms - Almace\"  Spell Card     spell   \n",
       "\n",
       "                                                desc        race  \\\n",
       "0  During each of your Standby Phases, put 1 A-Co...  Continuous   \n",
       "1  Each time an A-Counter(s) is removed from play...  Continuous   \n",
       "2  Target 1 face-up monster on the field; send 1 ...  Quick-Play   \n",
       "3  Select 1 face-up \"Alien\" monster you control. ...  Quick-Play   \n",
       "4  While this card is equipped to a monster: You ...       Equip   \n",
       "\n",
       "      archetype                                          card_sets  \\\n",
       "0         Alien  [{'set_name': 'Force of the Breaker', 'set_cod...   \n",
       "1         Alien  [{'set_name': \"Gladiator's Assault\", 'set_code...   \n",
       "2         Alien  [{'set_name': 'Invasion: Vengeance', 'set_code...   \n",
       "3         Alien  [{'set_name': 'Strike of Neos', 'set_code': 'S...   \n",
       "4  Noble Knight  [{'set_name': 'Duelist Nexus', 'set_code': 'DU...   \n",
       "\n",
       "                                         card_images  ... atk  def  level  \\\n",
       "0  [{'id': 34541863, 'image_url': 'https://images...  ... NaN  NaN    NaN   \n",
       "1  [{'id': 64163367, 'image_url': 'https://images...  ... NaN  NaN    NaN   \n",
       "2  [{'id': 91231901, 'image_url': 'https://images...  ... NaN  NaN    NaN   \n",
       "3  [{'id': 73262676, 'image_url': 'https://images...  ... NaN  NaN    NaN   \n",
       "4  [{'id': 98319530, 'image_url': 'https://images...  ... NaN  NaN    NaN   \n",
       "\n",
       "   attribute pend_desc monster_desc scale  linkval  linkmarkers banlist_info  \n",
       "0        NaN       NaN          NaN   NaN      NaN          NaN          NaN  \n",
       "1        NaN       NaN          NaN   NaN      NaN          NaN          NaN  \n",
       "2        NaN       NaN          NaN   NaN      NaN          NaN          NaN  \n",
       "3        NaN       NaN          NaN   NaN      NaN          NaN          NaN  \n",
       "4        NaN       NaN          NaN   NaN      NaN          NaN          NaN  \n",
       "\n",
       "[5 rows x 21 columns]"
      ]
     },
     "execution_count": 7,
     "metadata": {},
     "output_type": "execute_result"
    }
   ],
   "source": [
    "yugioh_df.head()"
   ]
  },
  {
   "cell_type": "code",
   "execution_count": 8,
   "id": "6d99a029",
   "metadata": {},
   "outputs": [],
   "source": [
    "columns_to_keep = ['name', 'type', 'race', 'attribute']"
   ]
  },
  {
   "cell_type": "code",
   "execution_count": 9,
   "id": "aa5b5ede",
   "metadata": {},
   "outputs": [],
   "source": [
    "yugioh_filtered_df = yugioh_df[columns_to_keep]"
   ]
  },
  {
   "cell_type": "code",
   "execution_count": 10,
   "id": "87e5bcfc",
   "metadata": {},
   "outputs": [
    {
     "data": {
      "text/html": [
       "<div>\n",
       "<style scoped>\n",
       "    .dataframe tbody tr th:only-of-type {\n",
       "        vertical-align: middle;\n",
       "    }\n",
       "\n",
       "    .dataframe tbody tr th {\n",
       "        vertical-align: top;\n",
       "    }\n",
       "\n",
       "    .dataframe thead th {\n",
       "        text-align: right;\n",
       "    }\n",
       "</style>\n",
       "<table border=\"1\" class=\"dataframe\">\n",
       "  <thead>\n",
       "    <tr style=\"text-align: right;\">\n",
       "      <th></th>\n",
       "      <th>name</th>\n",
       "      <th>type</th>\n",
       "      <th>race</th>\n",
       "      <th>attribute</th>\n",
       "    </tr>\n",
       "  </thead>\n",
       "  <tbody>\n",
       "    <tr>\n",
       "      <th>0</th>\n",
       "      <td>\"A\" Cell Breeding Device</td>\n",
       "      <td>Spell Card</td>\n",
       "      <td>Continuous</td>\n",
       "      <td>NaN</td>\n",
       "    </tr>\n",
       "    <tr>\n",
       "      <th>1</th>\n",
       "      <td>\"A\" Cell Incubator</td>\n",
       "      <td>Spell Card</td>\n",
       "      <td>Continuous</td>\n",
       "      <td>NaN</td>\n",
       "    </tr>\n",
       "    <tr>\n",
       "      <th>2</th>\n",
       "      <td>\"A\" Cell Recombination Device</td>\n",
       "      <td>Spell Card</td>\n",
       "      <td>Quick-Play</td>\n",
       "      <td>NaN</td>\n",
       "    </tr>\n",
       "    <tr>\n",
       "      <th>3</th>\n",
       "      <td>\"A\" Cell Scatter Burst</td>\n",
       "      <td>Spell Card</td>\n",
       "      <td>Quick-Play</td>\n",
       "      <td>NaN</td>\n",
       "    </tr>\n",
       "    <tr>\n",
       "      <th>4</th>\n",
       "      <td>\"Infernoble Arms - Almace\"</td>\n",
       "      <td>Spell Card</td>\n",
       "      <td>Equip</td>\n",
       "      <td>NaN</td>\n",
       "    </tr>\n",
       "  </tbody>\n",
       "</table>\n",
       "</div>"
      ],
      "text/plain": [
       "                            name        type        race attribute\n",
       "0       \"A\" Cell Breeding Device  Spell Card  Continuous       NaN\n",
       "1             \"A\" Cell Incubator  Spell Card  Continuous       NaN\n",
       "2  \"A\" Cell Recombination Device  Spell Card  Quick-Play       NaN\n",
       "3         \"A\" Cell Scatter Burst  Spell Card  Quick-Play       NaN\n",
       "4     \"Infernoble Arms - Almace\"  Spell Card       Equip       NaN"
      ]
     },
     "execution_count": 10,
     "metadata": {},
     "output_type": "execute_result"
    }
   ],
   "source": [
    "yugioh_filtered_df.head()"
   ]
  },
  {
   "cell_type": "code",
   "execution_count": 11,
   "id": "1a9d2a40",
   "metadata": {},
   "outputs": [
    {
     "data": {
      "text/plain": [
       "name            0\n",
       "type            0\n",
       "race            1\n",
       "attribute    4484\n",
       "dtype: int64"
      ]
     },
     "execution_count": 11,
     "metadata": {},
     "output_type": "execute_result"
    }
   ],
   "source": [
    "yugioh_filtered_df.isna().sum()"
   ]
  },
  {
   "cell_type": "code",
   "execution_count": 12,
   "id": "8e042f65",
   "metadata": {},
   "outputs": [
    {
     "data": {
      "text/plain": [
       "(12815, 4)"
      ]
     },
     "execution_count": 12,
     "metadata": {},
     "output_type": "execute_result"
    }
   ],
   "source": [
    "yugioh_filtered_df.shape"
   ]
  },
  {
   "cell_type": "code",
   "execution_count": 13,
   "id": "9534f149",
   "metadata": {},
   "outputs": [
    {
     "data": {
      "text/plain": [
       "array(['Spell Card', 'Effect Monster', 'Normal Monster',\n",
       "       'Flip Effect Monster', 'Trap Card', 'Union Effect Monster',\n",
       "       'Fusion Monster', 'Pendulum Effect Monster', 'Link Monster',\n",
       "       'XYZ Monster', 'Synchro Monster', 'Synchro Tuner Monster',\n",
       "       'Tuner Monster', 'Gemini Monster', 'Normal Tuner Monster',\n",
       "       'Spirit Monster', 'Ritual Effect Monster', 'Skill Card', 'Token',\n",
       "       'Pendulum Effect Fusion Monster', 'Ritual Monster', 'Toon Monster',\n",
       "       'Pendulum Normal Monster', 'Synchro Pendulum Effect Monster',\n",
       "       'Pendulum Tuner Effect Monster', 'XYZ Pendulum Effect Monster',\n",
       "       'Pendulum Effect Ritual Monster', 'Pendulum Flip Effect Monster'],\n",
       "      dtype=object)"
      ]
     },
     "execution_count": 13,
     "metadata": {},
     "output_type": "execute_result"
    }
   ],
   "source": [
    "yugioh_filtered_df['type'].unique()"
   ]
  },
  {
   "cell_type": "code",
   "execution_count": 14,
   "id": "6b9ca695",
   "metadata": {},
   "outputs": [],
   "source": [
    "yugioh_filtered_df = yugioh_filtered_df[yugioh_filtered_df['type'] != 'Spell Card']"
   ]
  },
  {
   "cell_type": "code",
   "execution_count": 15,
   "id": "718b018e",
   "metadata": {},
   "outputs": [
    {
     "data": {
      "text/plain": [
       "array(['Effect Monster', 'Normal Monster', 'Flip Effect Monster',\n",
       "       'Trap Card', 'Union Effect Monster', 'Fusion Monster',\n",
       "       'Pendulum Effect Monster', 'Link Monster', 'XYZ Monster',\n",
       "       'Synchro Monster', 'Synchro Tuner Monster', 'Tuner Monster',\n",
       "       'Gemini Monster', 'Normal Tuner Monster', 'Spirit Monster',\n",
       "       'Ritual Effect Monster', 'Skill Card', 'Token',\n",
       "       'Pendulum Effect Fusion Monster', 'Ritual Monster', 'Toon Monster',\n",
       "       'Pendulum Normal Monster', 'Synchro Pendulum Effect Monster',\n",
       "       'Pendulum Tuner Effect Monster', 'XYZ Pendulum Effect Monster',\n",
       "       'Pendulum Effect Ritual Monster', 'Pendulum Flip Effect Monster'],\n",
       "      dtype=object)"
      ]
     },
     "execution_count": 15,
     "metadata": {},
     "output_type": "execute_result"
    }
   ],
   "source": [
    "yugioh_filtered_df['type'].unique()"
   ]
  },
  {
   "cell_type": "code",
   "execution_count": 16,
   "id": "13e4c4b9",
   "metadata": {},
   "outputs": [],
   "source": [
    "yugioh_filtered_df = yugioh_filtered_df[yugioh_filtered_df['type'] != 'Trap Card']"
   ]
  },
  {
   "cell_type": "code",
   "execution_count": 17,
   "id": "2685dd91",
   "metadata": {},
   "outputs": [
    {
     "data": {
      "text/plain": [
       "array(['Effect Monster', 'Normal Monster', 'Flip Effect Monster',\n",
       "       'Union Effect Monster', 'Fusion Monster',\n",
       "       'Pendulum Effect Monster', 'Link Monster', 'XYZ Monster',\n",
       "       'Synchro Monster', 'Synchro Tuner Monster', 'Tuner Monster',\n",
       "       'Gemini Monster', 'Normal Tuner Monster', 'Spirit Monster',\n",
       "       'Ritual Effect Monster', 'Skill Card', 'Token',\n",
       "       'Pendulum Effect Fusion Monster', 'Ritual Monster', 'Toon Monster',\n",
       "       'Pendulum Normal Monster', 'Synchro Pendulum Effect Monster',\n",
       "       'Pendulum Tuner Effect Monster', 'XYZ Pendulum Effect Monster',\n",
       "       'Pendulum Effect Ritual Monster', 'Pendulum Flip Effect Monster'],\n",
       "      dtype=object)"
      ]
     },
     "execution_count": 17,
     "metadata": {},
     "output_type": "execute_result"
    }
   ],
   "source": [
    "yugioh_filtered_df['type'].unique()"
   ]
  },
  {
   "cell_type": "code",
   "execution_count": 18,
   "id": "d21afc0e",
   "metadata": {},
   "outputs": [
    {
     "data": {
      "text/plain": [
       "name           0\n",
       "type           0\n",
       "race           1\n",
       "attribute    124\n",
       "dtype: int64"
      ]
     },
     "execution_count": 18,
     "metadata": {},
     "output_type": "execute_result"
    }
   ],
   "source": [
    "yugioh_filtered_df.isna().sum()"
   ]
  },
  {
   "cell_type": "code",
   "execution_count": 19,
   "id": "3d3f435d",
   "metadata": {},
   "outputs": [
    {
     "data": {
      "text/html": [
       "<div>\n",
       "<style scoped>\n",
       "    .dataframe tbody tr th:only-of-type {\n",
       "        vertical-align: middle;\n",
       "    }\n",
       "\n",
       "    .dataframe tbody tr th {\n",
       "        vertical-align: top;\n",
       "    }\n",
       "\n",
       "    .dataframe thead th {\n",
       "        text-align: right;\n",
       "    }\n",
       "</style>\n",
       "<table border=\"1\" class=\"dataframe\">\n",
       "  <thead>\n",
       "    <tr style=\"text-align: right;\">\n",
       "      <th></th>\n",
       "      <th>name</th>\n",
       "      <th>type</th>\n",
       "      <th>race</th>\n",
       "      <th>attribute</th>\n",
       "    </tr>\n",
       "  </thead>\n",
       "  <tbody>\n",
       "    <tr>\n",
       "      <th>10</th>\n",
       "      <td>3-Hump Lacooda</td>\n",
       "      <td>Effect Monster</td>\n",
       "      <td>Beast</td>\n",
       "      <td>EARTH</td>\n",
       "    </tr>\n",
       "    <tr>\n",
       "      <th>11</th>\n",
       "      <td>30,000-Year White Turtle</td>\n",
       "      <td>Normal Monster</td>\n",
       "      <td>Aqua</td>\n",
       "      <td>WATER</td>\n",
       "    </tr>\n",
       "    <tr>\n",
       "      <th>12</th>\n",
       "      <td>4-Starred Ladybug of Doom</td>\n",
       "      <td>Flip Effect Monster</td>\n",
       "      <td>Insect</td>\n",
       "      <td>WIND</td>\n",
       "    </tr>\n",
       "    <tr>\n",
       "      <th>14</th>\n",
       "      <td>7 Colored Fish</td>\n",
       "      <td>Normal Monster</td>\n",
       "      <td>Fish</td>\n",
       "      <td>WATER</td>\n",
       "    </tr>\n",
       "    <tr>\n",
       "      <th>16</th>\n",
       "      <td>8-Claws Scorpion</td>\n",
       "      <td>Effect Monster</td>\n",
       "      <td>Insect</td>\n",
       "      <td>DARK</td>\n",
       "    </tr>\n",
       "  </tbody>\n",
       "</table>\n",
       "</div>"
      ],
      "text/plain": [
       "                         name                 type    race attribute\n",
       "10             3-Hump Lacooda       Effect Monster   Beast     EARTH\n",
       "11   30,000-Year White Turtle       Normal Monster    Aqua     WATER\n",
       "12  4-Starred Ladybug of Doom  Flip Effect Monster  Insect      WIND\n",
       "14             7 Colored Fish       Normal Monster    Fish     WATER\n",
       "16           8-Claws Scorpion       Effect Monster  Insect      DARK"
      ]
     },
     "execution_count": 19,
     "metadata": {},
     "output_type": "execute_result"
    }
   ],
   "source": [
    "yugioh_filtered_df.head()"
   ]
  },
  {
   "cell_type": "code",
   "execution_count": 20,
   "id": "de2aca00",
   "metadata": {},
   "outputs": [],
   "source": [
    "yugioh_filtered_df.dropna(inplace = True)"
   ]
  },
  {
   "cell_type": "code",
   "execution_count": 21,
   "id": "179d971d",
   "metadata": {},
   "outputs": [
    {
     "data": {
      "text/plain": [
       "name         0\n",
       "type         0\n",
       "race         0\n",
       "attribute    0\n",
       "dtype: int64"
      ]
     },
     "execution_count": 21,
     "metadata": {},
     "output_type": "execute_result"
    }
   ],
   "source": [
    "yugioh_filtered_df.isna().sum()\n"
   ]
  },
  {
   "cell_type": "code",
   "execution_count": 22,
   "id": "f2faaf2d",
   "metadata": {},
   "outputs": [
    {
     "data": {
      "text/plain": [
       "(8331, 4)"
      ]
     },
     "execution_count": 22,
     "metadata": {},
     "output_type": "execute_result"
    }
   ],
   "source": [
    "yugioh_filtered_df.shape\n"
   ]
  },
  {
   "cell_type": "markdown",
   "id": "199bc2fd",
   "metadata": {},
   "source": [
    "## Begin Machine Learning Model (Logistic Regression)\n"
   ]
  },
  {
   "cell_type": "code",
   "execution_count": 23,
   "id": "4cec6bb8",
   "metadata": {},
   "outputs": [],
   "source": [
    "from sklearn.model_selection import train_test_split, GridSearchCV, cross_val_score\n",
    "from sklearn.preprocessing import OneHotEncoder, StandardScaler\n",
    "from sklearn.linear_model import LogisticRegression\n",
    "from sklearn.pipeline import Pipeline\n",
    "from sklearn.metrics import confusion_matrix,precision_score, recall_score, f1_score, roc_curve, auc"
   ]
  },
  {
   "cell_type": "code",
   "execution_count": 24,
   "id": "995707a3",
   "metadata": {},
   "outputs": [],
   "source": [
    "encoder = OneHotEncoder(sparse_output=False)"
   ]
  },
  {
   "cell_type": "code",
   "execution_count": 25,
   "id": "648c467c",
   "metadata": {},
   "outputs": [],
   "source": [
    "encoded_features = encoder.fit_transform(yugioh_filtered_df[['type', 'race', 'name']])"
   ]
  },
  {
   "cell_type": "code",
   "execution_count": 26,
   "id": "c719d758",
   "metadata": {},
   "outputs": [],
   "source": [
    "encoded_yugioh_df = pd.DataFrame(encoded_features, columns=encoder.get_feature_names_out(['type', 'race', 'name']))"
   ]
  },
  {
   "cell_type": "code",
   "execution_count": 27,
   "id": "85d81981",
   "metadata": {},
   "outputs": [],
   "source": [
    "X = encoded_yugioh_df\n",
    "y = yugioh_filtered_df['attribute']"
   ]
  },
  {
   "cell_type": "code",
   "execution_count": 28,
   "id": "83f05b82",
   "metadata": {},
   "outputs": [],
   "source": [
    "X_train, X_test, y_train, y_test = train_test_split(X, y, test_size=0.3, random_state=42)"
   ]
  },
  {
   "cell_type": "code",
   "execution_count": 29,
   "id": "8be2b032",
   "metadata": {},
   "outputs": [],
   "source": [
    "model = LogisticRegression(max_iter=10000)"
   ]
  },
  {
   "cell_type": "code",
   "execution_count": 30,
   "id": "50d1fdcb",
   "metadata": {},
   "outputs": [
    {
     "data": {
      "text/html": [
       "<style>#sk-container-id-1 {color: black;}#sk-container-id-1 pre{padding: 0;}#sk-container-id-1 div.sk-toggleable {background-color: white;}#sk-container-id-1 label.sk-toggleable__label {cursor: pointer;display: block;width: 100%;margin-bottom: 0;padding: 0.3em;box-sizing: border-box;text-align: center;}#sk-container-id-1 label.sk-toggleable__label-arrow:before {content: \"▸\";float: left;margin-right: 0.25em;color: #696969;}#sk-container-id-1 label.sk-toggleable__label-arrow:hover:before {color: black;}#sk-container-id-1 div.sk-estimator:hover label.sk-toggleable__label-arrow:before {color: black;}#sk-container-id-1 div.sk-toggleable__content {max-height: 0;max-width: 0;overflow: hidden;text-align: left;background-color: #f0f8ff;}#sk-container-id-1 div.sk-toggleable__content pre {margin: 0.2em;color: black;border-radius: 0.25em;background-color: #f0f8ff;}#sk-container-id-1 input.sk-toggleable__control:checked~div.sk-toggleable__content {max-height: 200px;max-width: 100%;overflow: auto;}#sk-container-id-1 input.sk-toggleable__control:checked~label.sk-toggleable__label-arrow:before {content: \"▾\";}#sk-container-id-1 div.sk-estimator input.sk-toggleable__control:checked~label.sk-toggleable__label {background-color: #d4ebff;}#sk-container-id-1 div.sk-label input.sk-toggleable__control:checked~label.sk-toggleable__label {background-color: #d4ebff;}#sk-container-id-1 input.sk-hidden--visually {border: 0;clip: rect(1px 1px 1px 1px);clip: rect(1px, 1px, 1px, 1px);height: 1px;margin: -1px;overflow: hidden;padding: 0;position: absolute;width: 1px;}#sk-container-id-1 div.sk-estimator {font-family: monospace;background-color: #f0f8ff;border: 1px dotted black;border-radius: 0.25em;box-sizing: border-box;margin-bottom: 0.5em;}#sk-container-id-1 div.sk-estimator:hover {background-color: #d4ebff;}#sk-container-id-1 div.sk-parallel-item::after {content: \"\";width: 100%;border-bottom: 1px solid gray;flex-grow: 1;}#sk-container-id-1 div.sk-label:hover label.sk-toggleable__label {background-color: #d4ebff;}#sk-container-id-1 div.sk-serial::before {content: \"\";position: absolute;border-left: 1px solid gray;box-sizing: border-box;top: 0;bottom: 0;left: 50%;z-index: 0;}#sk-container-id-1 div.sk-serial {display: flex;flex-direction: column;align-items: center;background-color: white;padding-right: 0.2em;padding-left: 0.2em;position: relative;}#sk-container-id-1 div.sk-item {position: relative;z-index: 1;}#sk-container-id-1 div.sk-parallel {display: flex;align-items: stretch;justify-content: center;background-color: white;position: relative;}#sk-container-id-1 div.sk-item::before, #sk-container-id-1 div.sk-parallel-item::before {content: \"\";position: absolute;border-left: 1px solid gray;box-sizing: border-box;top: 0;bottom: 0;left: 50%;z-index: -1;}#sk-container-id-1 div.sk-parallel-item {display: flex;flex-direction: column;z-index: 1;position: relative;background-color: white;}#sk-container-id-1 div.sk-parallel-item:first-child::after {align-self: flex-end;width: 50%;}#sk-container-id-1 div.sk-parallel-item:last-child::after {align-self: flex-start;width: 50%;}#sk-container-id-1 div.sk-parallel-item:only-child::after {width: 0;}#sk-container-id-1 div.sk-dashed-wrapped {border: 1px dashed gray;margin: 0 0.4em 0.5em 0.4em;box-sizing: border-box;padding-bottom: 0.4em;background-color: white;}#sk-container-id-1 div.sk-label label {font-family: monospace;font-weight: bold;display: inline-block;line-height: 1.2em;}#sk-container-id-1 div.sk-label-container {text-align: center;}#sk-container-id-1 div.sk-container {/* jupyter's `normalize.less` sets `[hidden] { display: none; }` but bootstrap.min.css set `[hidden] { display: none !important; }` so we also need the `!important` here to be able to override the default hidden behavior on the sphinx rendered scikit-learn.org. See: https://github.com/scikit-learn/scikit-learn/issues/21755 */display: inline-block !important;position: relative;}#sk-container-id-1 div.sk-text-repr-fallback {display: none;}</style><div id=\"sk-container-id-1\" class=\"sk-top-container\"><div class=\"sk-text-repr-fallback\"><pre>LogisticRegression(max_iter=10000)</pre><b>In a Jupyter environment, please rerun this cell to show the HTML representation or trust the notebook. <br />On GitHub, the HTML representation is unable to render, please try loading this page with nbviewer.org.</b></div><div class=\"sk-container\" hidden><div class=\"sk-item\"><div class=\"sk-estimator sk-toggleable\"><input class=\"sk-toggleable__control sk-hidden--visually\" id=\"sk-estimator-id-1\" type=\"checkbox\" checked><label for=\"sk-estimator-id-1\" class=\"sk-toggleable__label sk-toggleable__label-arrow\">LogisticRegression</label><div class=\"sk-toggleable__content\"><pre>LogisticRegression(max_iter=10000)</pre></div></div></div></div></div>"
      ],
      "text/plain": [
       "LogisticRegression(max_iter=10000)"
      ]
     },
     "execution_count": 30,
     "metadata": {},
     "output_type": "execute_result"
    }
   ],
   "source": [
    "model.fit(X_train, y_train)"
   ]
  },
  {
   "cell_type": "code",
   "execution_count": 31,
   "id": "611caceb",
   "metadata": {},
   "outputs": [],
   "source": [
    "predictions = model.predict(X_test)"
   ]
  },
  {
   "cell_type": "code",
   "execution_count": 32,
   "id": "448e87e4",
   "metadata": {},
   "outputs": [
    {
     "ename": "NameError",
     "evalue": "name 'accuracy_score' is not defined",
     "output_type": "error",
     "traceback": [
      "\u001b[1;31m---------------------------------------------------------------------------\u001b[0m",
      "\u001b[1;31mNameError\u001b[0m                                 Traceback (most recent call last)",
      "Cell \u001b[1;32mIn[32], line 1\u001b[0m\n\u001b[1;32m----> 1\u001b[0m accuracy \u001b[38;5;241m=\u001b[39m accuracy_score(y_test, predictions)\n",
      "\u001b[1;31mNameError\u001b[0m: name 'accuracy_score' is not defined"
     ]
    }
   ],
   "source": [
    "accuracy = accuracy_score(y_test, predictions)"
   ]
  },
  {
   "cell_type": "code",
   "execution_count": null,
   "id": "72bcf765",
   "metadata": {},
   "outputs": [],
   "source": [
    "print(\"Accuracy:\", accuracy)"
   ]
  },
  {
   "cell_type": "code",
   "execution_count": null,
   "id": "fd0f4e3c",
   "metadata": {},
   "outputs": [],
   "source": [
    "conf_matrix = confusion_matrix(y_test, predictions)\n",
    "print(\"Confusion Matrix:\\n\", conf_matrix)\n"
   ]
  },
  {
   "cell_type": "code",
   "execution_count": null,
   "id": "48f00d28",
   "metadata": {},
   "outputs": [],
   "source": [
    "precision = precision_score(y_test, predictions, average='weighted', zero_division=1)\n",
    "print(\"Precision:\", precision)"
   ]
  },
  {
   "cell_type": "code",
   "execution_count": null,
   "id": "6688bf3c",
   "metadata": {},
   "outputs": [],
   "source": [
    "recall = recall_score(y_test, predictions, average='weighted')\n",
    "print(\"Recall:\", recall)"
   ]
  },
  {
   "cell_type": "code",
   "execution_count": null,
   "id": "0a8d6744",
   "metadata": {},
   "outputs": [],
   "source": [
    "f1 = f1_score(y_test, predictions, average='weighted')\n",
    "print(\"F1 Score:\", f1)"
   ]
  }
 ],
 "metadata": {
  "kernelspec": {
   "display_name": "Python 3 (ipykernel)",
   "language": "python",
   "name": "python3"
  },
  "language_info": {
   "codemirror_mode": {
    "name": "ipython",
    "version": 3
   },
   "file_extension": ".py",
   "mimetype": "text/x-python",
   "name": "python",
   "nbconvert_exporter": "python",
   "pygments_lexer": "ipython3",
   "version": "3.11.5"
  }
 },
 "nbformat": 4,
 "nbformat_minor": 5
}
